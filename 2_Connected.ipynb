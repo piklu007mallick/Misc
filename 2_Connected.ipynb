{
  "nbformat": 4,
  "nbformat_minor": 0,
  "metadata": {
    "colab": {
      "name": "2-Connected.ipynb",
      "provenance": [],
      "authorship_tag": "ABX9TyOxS4ufj3wKRYfMAuR3dPVu",
      "include_colab_link": true
    },
    "kernelspec": {
      "name": "python3",
      "display_name": "Python 3"
    },
    "language_info": {
      "name": "python"
    }
  },
  "cells": [
    {
      "cell_type": "markdown",
      "metadata": {
        "id": "view-in-github",
        "colab_type": "text"
      },
      "source": [
        "<a href=\"https://colab.research.google.com/github/piklu007mallick/Misc/blob/main/2_Connected.ipynb\" target=\"_parent\"><img src=\"https://colab.research.google.com/assets/colab-badge.svg\" alt=\"Open In Colab\"/></a>"
      ]
    },
    {
      "cell_type": "code",
      "execution_count": 6,
      "metadata": {
        "colab": {
          "base_uri": "https://localhost:8080/"
        },
        "id": "meL-cile2VPi",
        "outputId": "34efdb3e-a280-4482-f7cb-24e81c87b0ac"
      },
      "outputs": [
        {
          "output_type": "stream",
          "name": "stdout",
          "text": [
            "Yes\n"
          ]
        }
      ],
      "source": [
        "# Python3 program for the above approach\n",
        "\n",
        "# Definition of a graph\n",
        "class Graph:\n",
        "\n",
        "\t# No. of vertices\n",
        "\tV = 0\n",
        "\n",
        "\t# Array of lists for Adjacency\n",
        "\t# List Representation\n",
        "\tadj = [[]]\n",
        "\n",
        "\t# Constructor\n",
        "\tdef __init__(self, v):\n",
        "\t\t\n",
        "\t\tself.V = v\n",
        "\t\tself.adj = [[] for i in range(v)]\n",
        "\n",
        "\t# Function to add an edge into the graph\n",
        "\tdef addEdge(self, v, w):\n",
        "\t\n",
        "\t\tself.adj[v - 1].append(w - 1)\n",
        "\t\t\n",
        "\t\t# Add w to v's list.\n",
        "\t\tself.adj[w - 1].append(v - 1)\n",
        "\n",
        "\t# Function to find if the graph is\n",
        "\t# 2 edge connected or not\n",
        "\tdef twoEdge(self, v):\n",
        "\n",
        "\t\t# To store number of edges for\n",
        "\t\t# each node\n",
        "\t\tnoOfEdges = [len(self.adj[i]) for i in range(v)]\n",
        "\n",
        "\t\tflag = True\n",
        "\n",
        "\t\t# Check the number of edges\n",
        "\t\t# connected to each node\n",
        "\t\tfor i in range(v):\n",
        "\t\t\tif (noOfEdges[i] < 2):\n",
        "\t\t\t\tflag = False\n",
        "\t\t\t\tbreak\n",
        "\t\t\t\n",
        "\t\t# Print the result\n",
        "\t\tif (flag):\n",
        "\t\t\tprint(\"Yes\")\n",
        "\t\telse:\n",
        "\t\t\tprint(\"No\")\n",
        "\t\n",
        "# Driver code\n",
        "if __name__==\"__main__\":\n",
        "\n",
        "\t# Number of nodes and edges\n",
        "\tV = 10\n",
        "\tE = 17\n",
        "\n",
        "\t# Given Edges\n",
        "\tedges = [ [ 1, 2 ], [ 1, 7 ], [ 1, 10 ],\n",
        "\t\t\t[ 2, 3 ], [ 2, 8 ], [ 2, 10 ],\n",
        "\t\t\t[ 3, 4 ], [ 3, 6 ], [ 3, 9 ],\n",
        "\t\t\t[ 4, 5 ], [ 4, 10 ],\n",
        "      [ 5, 6 ],\n",
        "\t\t\t[ 6, 7 ], [ 6, 8 ], \n",
        "      [ 7, 8 ],\n",
        "      [ 8, 9 ],\n",
        "      [ 9, 10 ] ]\n",
        "\n",
        "\tg = Graph(V)\n",
        "\n",
        "\t# Adding the edges to graph\n",
        "\tfor i in range(E):\n",
        "\t\tg.addEdge(edges[i][0],\n",
        "\t\t\t\tedges[i][1])\n",
        "\t\n",
        "\t# Function call\n",
        "\tg.twoEdge(V)\n",
        "\n",
        "# This code is contributed by rutvik_56\n"
      ]
    }
  ]
}